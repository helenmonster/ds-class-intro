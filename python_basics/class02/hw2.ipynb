{
 "cells": [
  {
   "cell_type": "markdown",
   "metadata": {},
   "source": [
    "#### Exercise 5.\n",
    "\n",
    "1. Write a Python program to find those numbers which are divisible by 7 and multiple of 5, between 1500 and 2700 (both included)."
   ]
  },
  {
   "cell_type": "code",
   "execution_count": 1,
   "metadata": {},
   "outputs": [
    {
     "name": "stdout",
     "output_type": "stream",
     "text": [
      "1505\n",
      "1540\n",
      "1575\n",
      "1610\n",
      "1645\n",
      "1680\n",
      "1715\n",
      "1750\n",
      "1785\n",
      "1820\n",
      "1855\n",
      "1890\n",
      "1925\n",
      "1960\n",
      "1995\n",
      "2030\n",
      "2065\n",
      "2100\n",
      "2135\n",
      "2170\n",
      "2205\n",
      "2240\n",
      "2275\n",
      "2310\n",
      "2345\n",
      "2380\n",
      "2415\n",
      "2450\n",
      "2485\n",
      "2520\n",
      "2555\n",
      "2590\n",
      "2625\n",
      "2660\n",
      "2695\n"
     ]
    }
   ],
   "source": [
    "# code up your solution here\n",
    "for i in range(1500,2701):\n",
    "    if i%7==0 and i%5==0:\n",
    "        print(i)"
   ]
  },
  {
   "cell_type": "markdown",
   "metadata": {},
   "source": [
    "2. Write a Python program to count the number of even and odd numbers from a series of numbers.\n",
    "\n",
    "Sample: `numbers = (1, 2, 3, 4, 5, 6, 7, 8, 9)`\n",
    "\n",
    "Expected Output :\n",
    "\n",
    "```\n",
    "Number of even numbers : 5\n",
    "Number of odd numbers : 4\n",
    "```"
   ]
  },
  {
   "cell_type": "code",
   "execution_count": 2,
   "metadata": {},
   "outputs": [
    {
     "name": "stdout",
     "output_type": "stream",
     "text": [
      "Number of even numbers: 4\n",
      "Number of odd numbers: 5\n"
     ]
    }
   ],
   "source": [
    "# code up your solution here\n",
    "numbers = (1,2,3,4,5,6,7,8,9)\n",
    "print('Number of even numbers:',len([i for i in numbers if i%2==0]))\n",
    "print('Number of odd numbers:',len([i for i in numbers if i%2!=0]))   "
   ]
  },
  {
   "cell_type": "markdown",
   "metadata": {},
   "source": [
    "3. Write a Python program which iterates the integers from 0 to 50. For multiples of three print \"Fizz\" instead of the number and for the multiples of five print \"Buzz\". For numbers which are multiples of both three and five print \"FizzBuzz\".\n",
    "\n",
    "Expected Output :\n",
    "```\n",
    "fizzbuzz\n",
    "1\n",
    "2\n",
    "fizz\n",
    "4\n",
    "buzz\n",
    "...\n",
    "```"
   ]
  },
  {
   "cell_type": "code",
   "execution_count": 3,
   "metadata": {},
   "outputs": [
    {
     "name": "stdout",
     "output_type": "stream",
     "text": [
      "Fizz\n",
      "1\n",
      "2\n",
      "Fizz\n",
      "4\n",
      "Buzz\n",
      "Fizz\n",
      "7\n",
      "8\n",
      "Fizz\n",
      "Buzz\n",
      "11\n",
      "Fizz\n",
      "13\n",
      "14\n",
      "Fizz\n",
      "16\n",
      "17\n",
      "Fizz\n",
      "19\n",
      "Buzz\n",
      "Fizz\n",
      "22\n",
      "23\n",
      "Fizz\n",
      "Buzz\n",
      "26\n",
      "Fizz\n",
      "28\n",
      "29\n",
      "Fizz\n",
      "31\n",
      "32\n",
      "Fizz\n",
      "34\n",
      "Buzz\n",
      "Fizz\n",
      "37\n",
      "38\n",
      "Fizz\n",
      "Buzz\n",
      "41\n",
      "Fizz\n",
      "43\n",
      "44\n",
      "Fizz\n",
      "46\n",
      "47\n",
      "Fizz\n",
      "49\n",
      "Buzz\n"
     ]
    }
   ],
   "source": [
    "# code up your solution here\n",
    "for i in range(0,51):\n",
    "    if i%3==0:\n",
    "        print(\"Fizz\")\n",
    "    elif i%5==0:\n",
    "        print(\"Buzz\")\n",
    "    elif i%3==0 and i%5==0:\n",
    "        print(\"FizzBuzz\")\n",
    "    else:\n",
    "        print(i)"
   ]
  },
  {
   "cell_type": "markdown",
   "metadata": {},
   "source": [
    "4. Given a list iterate it and display numbers which are divisible by 5 and if you find number greater than 150 stop the loop iteration\n",
    "\n",
    "`list1 = [12, 15, 32, 42, 55, 75, 122, 132, 150, 180, 200]`\n",
    "\n",
    "Expected output:\n",
    "```\n",
    "15\n",
    "55\n",
    "75\n",
    "150\n",
    "```"
   ]
  },
  {
   "cell_type": "code",
   "execution_count": 4,
   "metadata": {},
   "outputs": [
    {
     "name": "stdout",
     "output_type": "stream",
     "text": [
      "15\n",
      "55\n",
      "75\n",
      "150\n"
     ]
    }
   ],
   "source": [
    "# code up your solution here\n",
    "list1 = [12, 15, 32, 42, 55, 75, 122, 132, 150, 180, 200]\n",
    "for i in list1:\n",
    "    if i%5==0 and i<=150:\n",
    "        print(i)"
   ]
  },
  {
   "cell_type": "markdown",
   "metadata": {},
   "source": [
    "5. Pick one of the questions above and use `range()` for a different solution"
   ]
  },
  {
   "cell_type": "code",
   "execution_count": 5,
   "metadata": {},
   "outputs": [
    {
     "name": "stdout",
     "output_type": "stream",
     "text": [
      "[0, 5, 10, 15, 20, 25, 30, 35, 40, 45, 50, 55, 60, 65, 70, 75, 80, 85, 90, 95, 100, 105, 110, 115, 120, 125, 130, 135, 140, 145, 150]\n"
     ]
    }
   ],
   "source": [
    "print([i for i in range(0,200) if i%5==0 and i<=150])"
   ]
  },
  {
   "cell_type": "markdown",
   "metadata": {},
   "source": [
    "6. Pick one of the question above and use comprehensions for a different solution"
   ]
  },
  {
   "cell_type": "code",
   "execution_count": 6,
   "metadata": {},
   "outputs": [
    {
     "name": "stdout",
     "output_type": "stream",
     "text": [
      "[15, 55, 75, 150]\n"
     ]
    }
   ],
   "source": [
    "# code up your solution here\n",
    "list1 = [12, 15, 32, 42, 55, 75, 122, 132, 150, 180, 200]\n",
    "print([i for i in list1 if i%5==0 and i<=150])"
   ]
  },
  {
   "cell_type": "markdown",
   "metadata": {},
   "source": [
    "#### Exercise 6\n",
    "1. Write a function calculation() such that it can accept two variables and calculate the addition and subtraction of it. It must return both addition and subtraction in a single return call.\n",
    "\n",
    "Expected output:\n",
    "```\n",
    "res = calculation(40, 10)\n",
    "print(res)\n",
    "(50, 30)\n",
    "```\n",
    "\n",
    "Arguments:\n",
    "```\n",
    "a: first number \n",
    "b: second number\n",
    "```\n",
    "    \n",
    "Returns:\n",
    "```\n",
    "sum: sum of two numbers\n",
    "diff: difference of two numbers\n",
    "```"
   ]
  },
  {
   "cell_type": "code",
   "execution_count": 7,
   "metadata": {},
   "outputs": [],
   "source": [
    "def calculation(a, b):\n",
    "    # code up your solution here\n",
    "    return(a+b,abs(a-b))"
   ]
  },
  {
   "cell_type": "code",
   "execution_count": 8,
   "metadata": {},
   "outputs": [
    {
     "name": "stdout",
     "output_type": "stream",
     "text": [
      "(50, 30)\n"
     ]
    }
   ],
   "source": [
    "res = calculation(40, 10)\n",
    "print(res)"
   ]
  },
  {
   "cell_type": "markdown",
   "metadata": {},
   "source": [
    "2. Return a lambda object that takes in a base and height of triangle and computes the area.\n",
    "\n",
    "Arguments:\n",
    "```\n",
    "None\n",
    "```\n",
    "\t\n",
    "Returns:\n",
    "```\n",
    "lambda_triangle_area: the lambda\n",
    "```"
   ]
  },
  {
   "cell_type": "code",
   "execution_count": 9,
   "metadata": {},
   "outputs": [],
   "source": [
    "def triangle_lambda():\n",
    "    # code up your solution here\n",
    "    lambda_triangle_area = lambda x,y: (x*y/2) \n",
    "    return lambda_triangle_area"
   ]
  },
  {
   "cell_type": "code",
   "execution_count": 10,
   "metadata": {},
   "outputs": [
    {
     "data": {
      "text/plain": [
       "3.0"
      ]
     },
     "execution_count": 10,
     "metadata": {},
     "output_type": "execute_result"
    }
   ],
   "source": [
    "function=triangle_lambda()\n",
    "function(2,3)"
   ]
  },
  {
   "cell_type": "markdown",
   "metadata": {},
   "source": [
    "3. Write a Python program that accepts a hyphen-separated sequence of words as input, and prints the words in a hyphen-separated sequence after sorting them alphabetically.\n",
    "\n",
    "Expected output:\n",
    "```\n",
    "sort_words('green-red-yellow-black-white')\n",
    "'black-green-red-white-yellow'\n",
    "```\t\n",
    "\n",
    "Arguments:\n",
    "```\n",
    "hyphen_str: input string separated by hyphen\n",
    "```\n",
    "\t\n",
    "Returns:\n",
    "```\n",
    "sorted_str: string in a hyphen-separated sequence after sorting them alphabetically\n",
    "```"
   ]
  },
  {
   "cell_type": "code",
   "execution_count": 11,
   "metadata": {},
   "outputs": [],
   "source": [
    "def sort_words(hyphen_str): \n",
    "    # code up your solution here\n",
    "    items=[n for n in hyphen_str.split('-')]\n",
    "    items.sort()\n",
    "    return ('-'.join(items)) "
   ]
  },
  {
   "cell_type": "code",
   "execution_count": 12,
   "metadata": {},
   "outputs": [
    {
     "data": {
      "text/plain": [
       "'black-green-red-white-yellow'"
      ]
     },
     "execution_count": 12,
     "metadata": {},
     "output_type": "execute_result"
    }
   ],
   "source": [
    "sort_words('green-red-yellow-black-white')"
   ]
  },
  {
   "cell_type": "markdown",
   "metadata": {},
   "source": [
    "4. Write a Python function to check whether a number is perfect or not.\n",
    "\n",
    "A perfect number is a positive integer that is equal to the sum of its proper positive divisors. Equivalently, a perfect number is a number that is half the sum of all of its positive divisors (including itself).\n",
    "\n",
    "Example: \n",
    "```\n",
    "6 is a perfect number as 1+2+3=6. Also by the second definition, (1+2+3+6)/2=6. Next perfect number is 28=1+2+4+7+14. Next two perfect numbers are 496 and 8128.\n",
    "```\n",
    "\n",
    "Argument:\n",
    "```\n",
    "number: number to check\n",
    "```\n",
    "\t\n",
    "Returns:\n",
    "```\n",
    "perfect: boolean, True if number is perfect\n",
    "```\n"
   ]
  },
  {
   "cell_type": "code",
   "execution_count": 13,
   "metadata": {},
   "outputs": [],
   "source": [
    "def perfect_number(x):\n",
    "    # code up your answer here\n",
    "    divisor=[]\n",
    "    for i in range(1,x+1):\n",
    "        if int(x)%i==0:\n",
    "            divisor.append(i)\n",
    "    if sum(divisor)/2 == x:\n",
    "        return True\n",
    "    else: \n",
    "        return False\n",
    "\n",
    "if __name__ == '__main__':\n",
    "    pass"
   ]
  },
  {
   "cell_type": "code",
   "execution_count": 14,
   "metadata": {},
   "outputs": [
    {
     "data": {
      "text/plain": [
       "True"
      ]
     },
     "execution_count": 14,
     "metadata": {},
     "output_type": "execute_result"
    }
   ],
   "source": [
    "perfect_number(8128)"
   ]
  },
  {
   "cell_type": "code",
   "execution_count": null,
   "metadata": {},
   "outputs": [],
   "source": []
  }
 ],
 "metadata": {
  "kernelspec": {
   "display_name": "Python 3",
   "language": "python",
   "name": "python3"
  },
  "language_info": {
   "codemirror_mode": {
    "name": "ipython",
    "version": 3
   },
   "file_extension": ".py",
   "mimetype": "text/x-python",
   "name": "python",
   "nbconvert_exporter": "python",
   "pygments_lexer": "ipython3",
   "version": "3.7.3"
  }
 },
 "nbformat": 4,
 "nbformat_minor": 2
}
